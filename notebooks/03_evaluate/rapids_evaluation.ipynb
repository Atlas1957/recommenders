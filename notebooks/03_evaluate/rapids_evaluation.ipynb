{
 "cells": [
  {
   "cell_type": "markdown",
   "metadata": {},
   "source": [
    "<i>Copyright (c) Microsoft Corporation. All rights reserved.</i>\n",
    "\n",
    "<i>Licensed under the MIT License.</i>"
   ]
  },
  {
   "cell_type": "markdown",
   "metadata": {},
   "source": [
    "# RAPIDS Evaluation"
   ]
  },
  {
   "cell_type": "markdown",
   "metadata": {},
   "source": [
    "[RAPIDS](https://rapids.ai/about.html) is an open source software libraries and APIs to provide ability to execute end-to-end data science and analytics pipelines entirely on **GPU**. It is designed to have a familiar look and feel to data scientist working in Python. Our repository implements recommender's common evaluation metrics by utilizing RAPIDS [cuDF](https://docs.rapids.ai/api/cudf/stable/) to speed up the calculation so that users can use that if their computing environment meets the RAPIDS requirements. \n",
    "\n",
    "This notebook benchmarks speed of evaluation metric calculations based on Pandas DataFrame vs. cuDF DataFrame.\n",
    "\n",
    "#### Requirements (v0.8)\n",
    "* GPU: NVIDIA Pascal™ or better with compute capability 6.0+\n",
    "  - Azure Data Science Virtual Machine (DSVM) [NC6v2](https://docs.microsoft.com/en-us/azure/virtual-machines/linux/sizes-gpu#ncv2-series) or [NC6v3](https://docs.microsoft.com/en-us/azure/virtual-machines/linux/sizes-gpu#ncv3-series) are good computing resources to start with \n",
    "* Supported OS: Ubuntu 16.04/18.04 or CentOS 7 with gcc 5.4 & 7.3\n",
    "* To use docker - Docker CE v18+ and NVIDIA-docker v2+\n",
    "* CUDA: 9.2 with driver v396.37+ or 10.0 with driver v410.48+\n",
    "  - CUDA 10.1 is not supported in v0.8, support will be added soon\n",
    "  \n",
    "#### Installation\n",
    "For now, recommender repository SETUP doesn't officially support RAPIDS environment because of the (relatively) hard requirements described above. To setup,\n",
    "run following command on the machine that meets the requirement.\n",
    "```\n",
    "# TODO\n",
    "```"
   ]
  },
  {
   "cell_type": "markdown",
   "metadata": {},
   "source": [
    "## 0 Global settings"
   ]
  },
  {
   "cell_type": "code",
   "execution_count": 1,
   "metadata": {},
   "outputs": [],
   "source": [
    "%reload_ext autoreload\n",
    "%autoreload 2\n",
    "%matplotlib inline"
   ]
  },
  {
   "cell_type": "code",
   "execution_count": 2,
   "metadata": {},
   "outputs": [
    {
     "name": "stdout",
     "output_type": "stream",
     "text": [
      "[{'device_name': 'Tesla V100-PCIE-16GB', 'total_memory': 16130.5, 'free_memory': 15711.625}] \n",
      "\n",
      "Pandas version: 0.24.2\n",
      "CuDF version: 0.8.0+0.g8fa7bd3.dirty\n"
     ]
    }
   ],
   "source": [
    "# set the environment path to find Recommenders\n",
    "import sys\n",
    "sys.path.append(\"../../\")\n",
    "from statistics import mean, stdev\n",
    "import math\n",
    "import time\n",
    "\n",
    "import cudf as cu\n",
    "import numpy as np\n",
    "import pandas as pd\n",
    "\n",
    "from reco_utils.common.constants import (\n",
    "    DEFAULT_USER_COL as USER_COL,\n",
    "    DEFAULT_ITEM_COL as ITEM_COL,\n",
    "    DEFAULT_RATING_COL as RATING_COL,\n",
    "    DEFAULT_PREDICTION_COL as PREDICT_COL,\n",
    ")\n",
    "from reco_utils.common.plot import bar_chart\n",
    "from reco_utils.common.gpu_utils import get_gpu_info\n",
    "from reco_utils.dataset import movielens\n",
    "from reco_utils.dataset.pandas_df_utils import user_item_pairs\n",
    "from reco_utils.dataset.python_splitters import python_random_split\n",
    "import reco_utils.evaluation.python_evaluation as pd_evaluator\n",
    "import reco_utils.evaluation.rapids_evaluation as cu_evaluator\n",
    "\n",
    "print(get_gpu_info(), \"\\n\")\n",
    "print(\"Pandas version: {}\".format(pd.__version__))\n",
    "print(\"CuDF version: {}\".format(cu.__version__))"
   ]
  },
  {
   "cell_type": "code",
   "execution_count": 3,
   "metadata": {},
   "outputs": [],
   "source": [
    "MOVIELENS_DATA_SIZE = '1m'\n",
    "REPEAT = 5"
   ]
  },
  {
   "cell_type": "markdown",
   "metadata": {},
   "source": [
    "## 1 Prepare data"
   ]
  },
  {
   "cell_type": "markdown",
   "metadata": {},
   "source": [
    "### 1.1 Prepare dummy data"
   ]
  },
  {
   "cell_type": "markdown",
   "metadata": {},
   "source": [
    "For illustration purpose, a dummy data set is created for demonstrating how different evaluation metrics work. \n",
    "\n",
    "The data has the schema that can be frequently found in a recommendation problem, that is, each row in the dataset is a (user, item, rating) tuple, where \"rating\" can be an ordinal rating score (e.g., discrete integers of 1, 2, 3, etc.) or an numerical float number that quantitatively indicates the preference of the user towards that item. \n",
    "\n",
    "For simplicity reason, the column of rating in the dummy dataset we use in the example represent some ordinal ratings."
   ]
  },
  {
   "cell_type": "code",
   "execution_count": 4,
   "metadata": {},
   "outputs": [],
   "source": [
    "def load_movielens(size):\n",
    "    pd_data = movielens.load_pandas_df(\n",
    "        size=size,\n",
    "        header=[USER_COL, ITEM_COL, RATING_COL],\n",
    "    )\n",
    "    \n",
    "    items = pd_data.drop_duplicates(ITEM_COL)[[ITEM_COL]].reset_index(drop=True)\n",
    "    users = pd_data.drop_duplicates(USER_COL)[[USER_COL]].reset_index(drop=True)\n",
    "\n",
    "    pd_pred = user_item_pairs(\n",
    "        user_df=users,\n",
    "        item_df=items,\n",
    "        user_col=USER_COL,\n",
    "        item_col=ITEM_COL,\n",
    "    )\n",
    "    pd_pred[PREDICT_COL] = pd.Series(np.random.randint(1, 6, size=len(pd_pred)), dtype='float32')\n",
    "    \n",
    "    print(\n",
    "        \"Num ratings = {}\\n\"\n",
    "        \"Num items = {}\\n\"\n",
    "        \"Num users = {}\\n\"\n",
    "        \"Num predictions = {}\".format(len(pd_data), len(items), len(users), len(pd_pred))\n",
    "    )\n",
    "    \n",
    "    return pd_data, pd_pred"
   ]
  },
  {
   "cell_type": "code",
   "execution_count": 5,
   "metadata": {},
   "outputs": [
    {
     "name": "stderr",
     "output_type": "stream",
     "text": [
      "100%|██████████| 5.78k/5.78k [00:00<00:00, 22.4kKB/s]\n"
     ]
    },
    {
     "name": "stdout",
     "output_type": "stream",
     "text": [
      "Num ratings = 1000209\n",
      "Num items = 3706\n",
      "Num users = 6040\n",
      "Num predictions = 22384240\n",
      "\n",
      "True data:\n",
      "    userID  itemID  rating\n",
      "0       1    1193     5.0\n",
      "1       1     661     3.0\n",
      "2       1     914     3.0\n",
      "3       1    3408     4.0\n",
      "4       1    2355     5.0\n",
      "\n",
      "Prediction data:\n",
      "    userID  itemID  prediction\n",
      "0    5405    1959         3.0\n",
      "1    5080    1233         3.0\n",
      "2    5973    2511         3.0\n",
      "3    5972    2756         4.0\n",
      "4    5188    3849         4.0\n"
     ]
    }
   ],
   "source": [
    "pd_data, pd_pred = load_movielens(MOVIELENS_DATA_SIZE)\n",
    "print(\"\\nTrue data:\\n\", pd_data.head())\n",
    "print(\"\\nPrediction data:\\n\",pd_pred.head())"
   ]
  },
  {
   "cell_type": "code",
   "execution_count": 6,
   "metadata": {},
   "outputs": [
    {
     "name": "stdout",
     "output_type": "stream",
     "text": [
      "   userID  itemID  rating\n",
      "0       1    1193     5.0\n",
      "1       1     661     3.0\n",
      "2       1     914     3.0\n",
      "3       1    3408     4.0\n",
      "4       1    2355     5.0\n",
      "   userID  itemID  prediction\n",
      "0    5405    1959         3.0\n",
      "1    5080    1233         3.0\n",
      "2    5973    2511         3.0\n",
      "3    5972    2756         4.0\n",
      "4    5188    3849         4.0\n"
     ]
    }
   ],
   "source": [
    "cu_data = cu.from_pandas(pd_data)\n",
    "cu_pred = cu.from_pandas(pd_pred)\n",
    "\n",
    "print(cu_data.head())\n",
    "print(cu_pred.head())"
   ]
  },
  {
   "cell_type": "markdown",
   "metadata": {},
   "source": [
    "## 2 Evaluation metrics"
   ]
  },
  {
   "cell_type": "code",
   "execution_count": 7,
   "metadata": {},
   "outputs": [],
   "source": [
    "cols = [USER_COL, ITEM_COL, RATING_COL, PREDICT_COL]"
   ]
  },
  {
   "cell_type": "code",
   "execution_count": 8,
   "metadata": {},
   "outputs": [],
   "source": [
    "def evaluate(fn, n, *args):\n",
    "    \"\"\"Evaluate fn n times\"\"\"\n",
    "    start = time.time()\n",
    "    metric = fn(*args)\n",
    "    laps = [time.time() - start]\n",
    "    for _ in range(n-1):\n",
    "        start = time.time()\n",
    "        assert math.isclose(metric, fn(*args), rel_tol=1e-06, abs_tol=1e-06)\n",
    "        laps.append(time.time() - start)\n",
    "    return metric, laps"
   ]
  },
  {
   "cell_type": "markdown",
   "metadata": {},
   "source": [
    "### 2.1 Rating metrics"
   ]
  },
  {
   "cell_type": "markdown",
   "metadata": {},
   "source": [
    "#### 2.1.1 Root Mean Square Error (RMSE)"
   ]
  },
  {
   "cell_type": "code",
   "execution_count": 9,
   "metadata": {},
   "outputs": [
    {
     "name": "stdout",
     "output_type": "stream",
     "text": [
      "RMSE with Pandas = 1.8919867496108722, took 29.030677461624144 seconds in average\n"
     ]
    }
   ],
   "source": [
    "pd_rmse, pd_rmse_times = evaluate(pd_evaluator.rmse, REPEAT, *[pd_data, pd_pred, *cols])\n",
    "print(\"RMSE with Pandas = {}, took {} seconds in average\".format(pd_rmse, mean(pd_rmse_times)))"
   ]
  },
  {
   "cell_type": "code",
   "execution_count": 10,
   "metadata": {},
   "outputs": [
    {
     "name": "stdout",
     "output_type": "stream",
     "text": [
      "RMSE with Rapids.cuDF = 1.8919867496108722, took seconds 0.03458213806152344 in average\n"
     ]
    }
   ],
   "source": [
    "cu_rmse, cu_rmse_times = evaluate(cu_evaluator.rmse, REPEAT, *[cu_data, cu_pred, *cols])\n",
    "print(\"RMSE with Rapids.cuDF = {}, took seconds {} in average\".format(cu_rmse, mean(cu_rmse_times)))"
   ]
  },
  {
   "cell_type": "code",
   "execution_count": 11,
   "metadata": {},
   "outputs": [],
   "source": [
    "assert math.isclose(pd_rmse, cu_rmse, rel_tol=1e-06, abs_tol=1e-06)"
   ]
  },
  {
   "cell_type": "markdown",
   "metadata": {},
   "source": [
    "#### 2.1.2 Mean Absolute Error (MAE)"
   ]
  },
  {
   "cell_type": "code",
   "execution_count": 12,
   "metadata": {},
   "outputs": [
    {
     "name": "stdout",
     "output_type": "stream",
     "text": [
      "MAE with Pandas = 1.5155192564753965, took 31.986706972122192 seconds in average\n"
     ]
    }
   ],
   "source": [
    "pd_mae, pd_mae_times = evaluate(pd_evaluator.mae, REPEAT, *[pd_data, pd_pred, *cols])\n",
    "print(\"MAE with Pandas = {}, took {} seconds in average\".format(pd_mae, mean(pd_mae_times)))"
   ]
  },
  {
   "cell_type": "code",
   "execution_count": 13,
   "metadata": {},
   "outputs": [
    {
     "name": "stdout",
     "output_type": "stream",
     "text": [
      "MAE with Rapids.cuDF = 1.5155192564753965, took 0.03280062675476074 seconds in average\n"
     ]
    }
   ],
   "source": [
    "cu_mae, cu_mae_times = evaluate(cu_evaluator.mae, REPEAT, *[cu_data, cu_pred, *cols])\n",
    "print(\"MAE with Rapids.cuDF = {}, took {} seconds in average\".format(cu_mae, mean(cu_mae_times)))"
   ]
  },
  {
   "cell_type": "code",
   "execution_count": 14,
   "metadata": {},
   "outputs": [],
   "source": [
    "assert math.isclose(pd_mae, cu_mae, rel_tol=1e-06, abs_tol=1e-06)"
   ]
  },
  {
   "cell_type": "markdown",
   "metadata": {},
   "source": [
    "#### 2.1.3 Summary"
   ]
  },
  {
   "cell_type": "code",
   "execution_count": 15,
   "metadata": {},
   "outputs": [
    {
     "data": {
      "image/png": "[encoded data removed]",
      "text/plain": [
       "<Figure size 432x288 with 1 Axes>"
      ]
     },
     "metadata": {
      "needs_background": "light"
     },
     "output_type": "display_data"
    }
   ],
   "source": [
    "values = [\n",
    "    [mean(pd_rmse_times), mean(pd_mae_times)],\n",
    "    [mean(cu_rmse_times), mean(cu_mae_times)]\n",
    "]\n",
    "errors = [\n",
    "    [stdev(pd_rmse_times), stdev(pd_mae_times)],\n",
    "    [stdev(cu_rmse_times), stdev(cu_mae_times)]\n",
    "]\n",
    "labels = ['Pandas', 'cuDF']\n",
    "\n",
    "bar_chart(values, labels, errors=errors, x_name=\"Rating metrics\", y_name=\"Time (sec)\", tick_labels=['RMSE', 'MAE'])"
   ]
  },
  {
   "cell_type": "markdown",
   "metadata": {},
   "source": [
    "### 2.2 Ranking metrics"
   ]
  },
  {
   "cell_type": "code",
   "execution_count": 16,
   "metadata": {},
   "outputs": [],
   "source": [
    "DEFAULT_K = 10\n",
    "DEFAULT_THRESHOLD = 10"
   ]
  },
  {
   "cell_type": "markdown",
   "metadata": {},
   "source": [
    "#### 2.2.1 Precision"
   ]
  },
  {
   "cell_type": "code",
   "execution_count": 17,
   "metadata": {},
   "outputs": [
    {
     "name": "stdout",
     "output_type": "stream",
     "text": [
      "Precision at 10 with Pandas = 0.044735099337748364, took 32.028012895584105 seconds in average\n"
     ]
    }
   ],
   "source": [
    "pd_prec, pd_prec_times = evaluate(pd_evaluator.precision_at_k, REPEAT, *[pd_data, pd_pred, *cols, 'top_k', DEFAULT_K])\n",
    "print(\"Precision at {} with Pandas = {}, took {} seconds in average\".format(DEFAULT_K, pd_prec, mean(pd_prec_times)))"
   ]
  },
  {
   "cell_type": "code",
   "execution_count": 18,
   "metadata": {},
   "outputs": [
    {
     "name": "stdout",
     "output_type": "stream",
     "text": [
      "Precision at 10 with Rapids.cuDF = 0.044735101358780005, took 1.015153455734253 seconds in average\n"
     ]
    }
   ],
   "source": [
    "cu_prec, cu_prec_times = evaluate(cu_evaluator.precision_at_k, REPEAT, *[cu_data, cu_pred, *cols, 'top_k', DEFAULT_K])\n",
    "print(\"Precision at {} with Rapids.cuDF = {}, took {} seconds in average\".format(DEFAULT_K, cu_prec, mean(cu_prec_times)))"
   ]
  },
  {
   "cell_type": "code",
   "execution_count": 19,
   "metadata": {},
   "outputs": [],
   "source": [
    "assert math.isclose(pd_prec, cu_prec, rel_tol=1e-06, abs_tol=1e-06)"
   ]
  },
  {
   "cell_type": "markdown",
   "metadata": {},
   "source": [
    "#### 2.2.2 Recall"
   ]
  },
  {
   "cell_type": "code",
   "execution_count": 20,
   "metadata": {},
   "outputs": [
    {
     "name": "stdout",
     "output_type": "stream",
     "text": [
      "Recall at 10 with Pandas = 0.002697534436295761, took 31.74292302131653 seconds in average\n"
     ]
    }
   ],
   "source": [
    "pd_rec, pd_rec_times = evaluate(pd_evaluator.recall_at_k, REPEAT, *[pd_data, pd_pred, *cols, 'top_k', DEFAULT_K])\n",
    "print(\"Recall at {} with Pandas = {}, took {} seconds in average\".format(DEFAULT_K, pd_rec, mean(pd_rec_times)))"
   ]
  },
  {
   "cell_type": "code",
   "execution_count": 21,
   "metadata": {},
   "outputs": [
    {
     "name": "stdout",
     "output_type": "stream",
     "text": [
      "Recall at 10 with Rapids.cuDF = 0.002697534436295761, took 0.8590415954589844 seconds in average\n"
     ]
    }
   ],
   "source": [
    "cu_rec, cu_rec_times = evaluate(cu_evaluator.recall_at_k, REPEAT, *[cu_data, cu_pred, *cols, 'top_k', DEFAULT_K])\n",
    "print(\"Recall at {} with Rapids.cuDF = {}, took {} seconds in average\".format(DEFAULT_K, cu_rec, mean(cu_rec_times)))"
   ]
  },
  {
   "cell_type": "code",
   "execution_count": 22,
   "metadata": {},
   "outputs": [],
   "source": [
    "assert math.isclose(pd_rec, cu_rec, rel_tol=1e-06, abs_tol=1e-06)"
   ]
  },
  {
   "cell_type": "code",
   "execution_count": 23,
   "metadata": {},
   "outputs": [
    {
     "data": {
      "text/plain": [
       "True"
      ]
     },
     "execution_count": 23,
     "metadata": {},
     "output_type": "execute_result"
    }
   ],
   "source": [
    "type(cu_data)\n",
    "isinstance(cu_data, cu.DataFrame)"
   ]
  },
  {
   "cell_type": "markdown",
   "metadata": {},
   "source": [
    "#### 2.2.3 Normalized Discounted Cumulative Gain (NDCG)"
   ]
  },
  {
   "cell_type": "code",
   "execution_count": 24,
   "metadata": {},
   "outputs": [
    {
     "name": "stdout",
     "output_type": "stream",
     "text": [
      "NDCG at 10 with Pandas = 0.045403008092939505, took 32.04131827354431 seconds in average\n"
     ]
    }
   ],
   "source": [
    "pd_ndcg, pd_ndcg_times = evaluate(pd_evaluator.ndcg_at_k, REPEAT, *[pd_data, pd_pred, *cols, 'top_k', DEFAULT_K])\n",
    "print(\"NDCG at {} with Pandas = {}, took {} seconds in average\".format(DEFAULT_K, pd_ndcg, mean(pd_ndcg_times)))"
   ]
  },
  {
   "cell_type": "code",
   "execution_count": 25,
   "metadata": {},
   "outputs": [
    {
     "name": "stdout",
     "output_type": "stream",
     "text": [
      "NDCG at 10 with Rapids.cuDF = 0.045403008092939505, took 1.2260494232177734 seconds in average\n"
     ]
    }
   ],
   "source": [
    "cu_ndcg, cu_ndcg_times = evaluate(cu_evaluator.ndcg_at_k, REPEAT, *[cu_data, cu_pred, *cols, 'top_k', DEFAULT_K])\n",
    "print(\"NDCG at {} with Rapids.cuDF = {}, took {} seconds in average\".format(DEFAULT_K, cu_ndcg, mean(cu_ndcg_times)))"
   ]
  },
  {
   "cell_type": "code",
   "execution_count": 26,
   "metadata": {},
   "outputs": [],
   "source": [
    "assert math.isclose(pd_ndcg, cu_ndcg, rel_tol=1e-06, abs_tol=1e-06)"
   ]
  },
  {
   "cell_type": "markdown",
   "metadata": {},
   "source": [
    "#### 2.2.4 Mean Average Precision (MAP)"
   ]
  },
  {
   "cell_type": "code",
   "execution_count": null,
   "metadata": {},
   "outputs": [],
   "source": []
  },
  {
   "cell_type": "code",
   "execution_count": 27,
   "metadata": {},
   "outputs": [],
   "source": [
    "# TODO..."
   ]
  },
  {
   "cell_type": "markdown",
   "metadata": {},
   "source": [
    "#### 2.2.5 Summary"
   ]
  },
  {
   "cell_type": "code",
   "execution_count": 28,
   "metadata": {},
   "outputs": [
    {
     "data": {
      "image/png": "[encoded data removed]",
      "text/plain": [
       "<Figure size 432x288 with 1 Axes>"
      ]
     },
     "metadata": {
      "needs_background": "light"
     },
     "output_type": "display_data"
    }
   ],
   "source": [
    "values = [\n",
    "    [mean(pd_prec_times), mean(pd_rec_times), mean(pd_ndcg_times)],\n",
    "    [mean(cu_prec_times), mean(cu_rec_times), mean(cu_ndcg_times)]\n",
    "]\n",
    "\n",
    "errors = [\n",
    "    [stdev(pd_prec_times), stdev(pd_rec_times), stdev(pd_ndcg_times)],\n",
    "    [stdev(cu_prec_times), stdev(cu_rec_times), stdev(cu_ndcg_times)]\n",
    "]\n",
    "\n",
    "labels = ['Pandas', 'cuDF']\n",
    "\n",
    "bar_chart(values, labels, errors=errors, x_name=\"Ranking metrics\", y_name=\"Time (sec)\", tick_labels=['Precision', 'Recall', 'NDCG'])"
   ]
  },
  {
   "cell_type": "code",
   "execution_count": null,
   "metadata": {},
   "outputs": [],
   "source": []
  }
 ],
 "metadata": {
  "kernelspec": {
   "display_name": "reco_rapids",
   "language": "python",
   "name": "reco_rapids"
  },
  "language_info": {
   "codemirror_mode": {
    "name": "ipython",
    "version": 3
   },
   "file_extension": ".py",
   "mimetype": "text/x-python",
   "name": "python",
   "nbconvert_exporter": "python",
   "pygments_lexer": "ipython3",
   "version": "3.6.8"
  }
 },
 "nbformat": 4,
 "nbformat_minor": 2
}
